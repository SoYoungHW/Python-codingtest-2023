{
 "cells": [
  {
   "attachments": {},
   "cell_type": "markdown",
   "metadata": {},
   "source": [
    "# 코딩테스트 중 실수 4가지\n",
    "\n",
    "## 결함있는 코드"
   ]
  },
  {
   "cell_type": "code",
   "execution_count": 20,
   "metadata": {},
   "outputs": [
    {
     "name": "stdout",
     "output_type": "stream",
     "text": [
      "1 = 106\n",
      "2 = 66\n"
     ]
    }
   ],
   "source": [
    "# 배열의 주어진 범위의 합을 2로 나눈 몫을 구하세요\n",
    "import random\n",
    "\n",
    "testcase = int(input()) # 횟수\n",
    "answer = 0\n",
    "A = [0] * 100001 # 10만개 리스트\n",
    "\n",
    "for i in range(0, 100001): # 2. 10001은 0개수를 잘못 넣은 것\n",
    "    A[i] = random.randrange(1, 101) \n",
    "\n",
    "for t in range(1, testcase+1):\n",
    "    answer = 0 # 1. 초기화 문제 해결\n",
    "    start, end = map(int, input().split())\n",
    "\n",
    "    for i in range(start, end+1):\n",
    "        answer = answer + A[i]\n",
    "\n",
    "    # 결과값이 정수로 나오려면 /대신 //로 변경\n",
    "    print(f'{t} = {answer//2}') # 3. testcase -> t 로 변경"
   ]
  },
  {
   "attachments": {},
   "cell_type": "markdown",
   "metadata": {},
   "source": [
    "## 예외 1\n",
    "\n",
    "answer 초기화 안함\n",
    "\n",
    "## 예외 2 \n",
    "\n",
    "배열의 범위를 잘못 입력\n",
    "\n",
    "## 예외 3 \n",
    "\n",
    "변수를 잘못 사용 -> 결과가 다르게 나옴\n",
    "\n",
    "## 예외 4 \n",
    "\n",
    "형변환 때문에 정수가 아닌 실수로 나온 것(나누기 연산자)"
   ]
  }
 ],
 "metadata": {
  "kernelspec": {
   "display_name": "Python 3",
   "language": "python",
   "name": "python3"
  },
  "language_info": {
   "codemirror_mode": {
    "name": "ipython",
    "version": 3
   },
   "file_extension": ".py",
   "mimetype": "text/x-python",
   "name": "python",
   "nbconvert_exporter": "python",
   "pygments_lexer": "ipython3",
   "version": "3.11.1 (tags/v3.11.1:a7a450f, Dec  6 2022, 19:58:39) [MSC v.1934 64 bit (AMD64)]"
  },
  "orig_nbformat": 4,
  "vscode": {
   "interpreter": {
    "hash": "a3d8f53f1429d27b792a3789224562ddd32c1395c9a9cfbb17b3c19c3b9a493d"
   }
  }
 },
 "nbformat": 4,
 "nbformat_minor": 2
}
