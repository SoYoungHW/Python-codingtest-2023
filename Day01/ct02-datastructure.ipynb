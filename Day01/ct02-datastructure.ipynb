{
 "cells": [
  {
   "attachments": {},
   "cell_type": "markdown",
   "metadata": {},
   "source": [
    "## 자료구조\n",
    "\n",
    "### 숫자의 합 구하기 - 백준 11720"
   ]
  },
  {
   "cell_type": "code",
   "execution_count": 36,
   "metadata": {},
   "outputs": [
    {
     "name": "stdout",
     "output_type": "stream",
     "text": [
      "15\n"
     ]
    }
   ],
   "source": [
    "# input 문자열 파라미터를 넣으면 틀린 문제로 간주됨\n",
    "n = int(input())\n",
    "number = list(input())\n",
    "my_sum = 0 # sum = 0 이라 쓰지 말 것!\n",
    "\n",
    "for i in number:\n",
    "    my_sum += int(i)\n",
    "\n",
    "print(my_sum)"
   ]
  },
  {
   "attachments": {},
   "cell_type": "markdown",
   "metadata": {},
   "source": [
    "### 또 다른 답"
   ]
  },
  {
   "cell_type": "code",
   "execution_count": 18,
   "metadata": {},
   "outputs": [
    {
     "name": "stdout",
     "output_type": "stream",
     "text": [
      "15\n"
     ]
    }
   ],
   "source": [
    "n = int(input())\n",
    "number = list(map(int, input()))\n",
    "my_sum = 0\n",
    "\n",
    "for i in range(n):\n",
    "    my_sum += number[i]\n",
    "\n",
    "print(my_sum)"
   ]
  },
  {
   "cell_type": "code",
   "execution_count": 14,
   "metadata": {},
   "outputs": [
    {
     "data": {
      "text/plain": [
       "[1, 2, 3, 4, 5]"
      ]
     },
     "execution_count": 14,
     "metadata": {},
     "output_type": "execute_result"
    }
   ],
   "source": [
    "# map : 맵핑 , 맵이라는 객체로 바꿈, 단독으로 잘 쓰이지 않음, 들어온 값들을 다 분리해주는\n",
    "numbers = map(int, [1,2,3,4,5])\n",
    "tuple(numbers)"
   ]
  },
  {
   "attachments": {},
   "cell_type": "markdown",
   "metadata": {},
   "source": [
    "### 평균 구하기 - 백준 1546"
   ]
  },
  {
   "cell_type": "code",
   "execution_count": 35,
   "metadata": {},
   "outputs": [
    {
     "name": "stdout",
     "output_type": "stream",
     "text": [
      "65.0\n"
     ]
    }
   ],
   "source": [
    "n = int(input()) # 과목수\n",
    "test = list(map(int, input().split())) # 점수 다 받기\n",
    "max_point = max(test) # 성적 중 최대점수\n",
    "my_sum = 0 # my_sum = sum(test) 위에 숫자의 합 sum = 0 때문에 오류\n",
    "\n",
    "for i in test:\n",
    "    my_sum += i\n",
    "\n",
    "print(my_sum * 100 / max_point / n) #평균 구하기"
   ]
  },
  {
   "attachments": {},
   "cell_type": "markdown",
   "metadata": {},
   "source": [
    "## 구간 합 구하기4 - 백준 11659"
   ]
  },
  {
   "cell_type": "code",
   "execution_count": 52,
   "metadata": {},
   "outputs": [
    {
     "name": "stdout",
     "output_type": "stream",
     "text": [
      "12\n",
      "9\n",
      "1\n"
     ]
    }
   ],
   "source": [
    "# 입력속도를 개선! 단, 주피터노트북에서는 실행불가\n",
    "# import sys\n",
    "# input = sys.stdin.readline\n",
    "N, M = tuple(map(int, input().split()))\n",
    "numbers = list(map(int, input().split()))\n",
    "sums = [0] # 중요! 배열 0번째 인덱스\n",
    "temp = 0\n",
    "\n",
    "for i in numbers:\n",
    "    temp = temp + i # temp 5 9 12 14 15\n",
    "    sums.append(temp)\n",
    "    # [0, 5, 9, 12, 14, 15]\n",
    "\n",
    "for i in range(M):\n",
    "    x, y = tuple(map(int, input().split()))\n",
    "    print(sums[y] - sums[x-1])   "
   ]
  }
 ],
 "metadata": {
  "kernelspec": {
   "display_name": "Python 3",
   "language": "python",
   "name": "python3"
  },
  "language_info": {
   "codemirror_mode": {
    "name": "ipython",
    "version": 3
   },
   "file_extension": ".py",
   "mimetype": "text/x-python",
   "name": "python",
   "nbconvert_exporter": "python",
   "pygments_lexer": "ipython3",
   "version": "3.11.1"
  },
  "orig_nbformat": 4,
  "vscode": {
   "interpreter": {
    "hash": "a3d8f53f1429d27b792a3789224562ddd32c1395c9a9cfbb17b3c19c3b9a493d"
   }
  }
 },
 "nbformat": 4,
 "nbformat_minor": 2
}
